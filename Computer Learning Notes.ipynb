{
 "cells": [
  {
   "cell_type": "markdown",
   "metadata": {},
   "source": [
    "# Computer Learning\n",
    "## 1 Basic Text Processing\n",
    "### [NLTK Book](http://www.nltk.org/book/ch03.html)"
   ]
  },
  {
   "cell_type": "code",
   "execution_count": 1,
   "metadata": {
    "collapsed": true
   },
   "outputs": [],
   "source": [
    "# from __future__ import division  # Python 2 users only\n",
    "import nltk, re, pprint\n",
    "from nltk import word_tokenize"
   ]
  },
  {
   "cell_type": "code",
   "execution_count": 55,
   "metadata": {
    "collapsed": false
   },
   "outputs": [
    {
     "name": "stdout",
     "output_type": "stream",
     "text": [
      "<!DOCTYPE html>\n",
      "<html lang=\"en\">\n",
      "\n",
      "<head>\n",
      "\n",
      "    <meta charset=\"utf-8\">\n",
      "    <meta http-equiv=\"X-UA-Compatible\" content=\"IE=edge\">\n",
      "    <meta name=\"viewport\" content=\"width=device-width, initial-scale=1\">\n",
      "    <meta name=\"description\" content=\"something i once said\">\n",
      "\n",
      "    <title>How to avoid Idea Averaging - andrewxhill</title>\n",
      "\n",
      "    <link rel=\"canonical\" href=\"http://andrewxhill.com/blog/2016/01/04/idea\n"
     ]
    }
   ],
   "source": [
    "from urllib2 import urlopen\n",
    "url = \"http://www.gutenberg.org/files/2554/2554.txt\"\n",
    "url2 = \"http://andrewxhill.com/blog/2016/01/04/idea-averaging/\"\n",
    "response = urlopen(url2)\n",
    "raw = response.read().decode('utf8')\n",
    "# test = nltk.clean_html(response.read())\n",
    "# print test\n",
    "type(raw)\n",
    "print raw[:400]"
   ]
  },
  {
   "cell_type": "markdown",
   "metadata": {},
   "source": [
    "[Lost Support](http://stackoverflow.com/questions/26002076/python-nltk-clean-html-not-implemented)\n",
    "![HTML Pipeline](http://www.nltk.org/images/pipeline1.png)"
   ]
  },
  {
   "cell_type": "code",
   "execution_count": 45,
   "metadata": {
    "collapsed": false
   },
   "outputs": [
    {
     "name": "stdout",
     "output_type": "stream",
     "text": [
      "[u'\\n\\n\\n\\n\\n\\nHow to avoid Idea Averaging - andrewxhill\\n\\n\\n\\n\\n\\n\\n\\n\\n\\n\\n\\n\\n\\n\\n\\n\\n\\n\\n\\n\\n\\n\\nToggle navigation\\n\\n\\n\\n\\nandrewxhill\\n\\n\\n\\n\\n\\nHome\\n\\n\\nAbout\\n\\n\\n\\n\\n\\n\\n\\n\\n.responsive-object {\\n    position: relative;\\n    padding-bottom: 67.5%;\\n    height: 0;\\n    margin: 10px 0;\\n    overflow: hidden;\\n}\\n.responsive-object iframe,\\n.responsive-object object,\\n.responsive-object embed {\\n    position: absolute;\\n    top: 0;\\n    left: 0;\\n    width: 100%;\\n    height: 100%;\\n}\\n\\n\\n\\n\\n\\n\\n\\nHow to avoid Idea Averaging\\nLet only the best ideas through\\nPosted by  on January 4, 2016\\n\\n\\n\\n\\n\\n\\n\\n\\n\\n\\nIdeation skills are super important for effective team work.', u'Collaborative ideation is the process where you tell me an idea, I try to identify any weakness or missing piece, augment the idea and hand it back to you.', u'I have a good friend that I love to ideate with.', u'We often will grab beers and just start riffing on startup ideas, technology ideas, or any crazy ideas.', u'Single threads can pass through many topics and often aren\\u2019t bound to any objective, so it is more brain gymnastics than anything else.']\n"
     ]
    }
   ],
   "source": [
    "from bs4 import BeautifulSoup\n",
    "import urllib\n",
    "r = urllib.urlopen(url2).read()\n",
    "soup = BeautifulSoup(r)\n",
    "# print dir(soup)\n",
    "# print soup.get_text()\n",
    "# print soup.getText()\n",
    "sentences = nltk.sent_tokenize(soup.get_text())\n",
    "print sentences[:5]"
   ]
  },
  {
   "cell_type": "code",
   "execution_count": 47,
   "metadata": {
    "collapsed": false
   },
   "outputs": [
    {
     "name": "stdout",
     "output_type": "stream",
     "text": [
      "[u'!', u'%', u\"''\", u'(', u')', u',', u'-', u'.', u'.responsive-object', u'0', u'100', u'10px', u'2016', u'4', u'67.5', u':', u';', u'?', u'a', u'about', u'absolute', u'accept', u'act', u'actually', u'advantage', u'afraid', u'all', u'allow', u'almost', u'alone', u'already', u'also', u'always', u'an', u'and', u'andrewxhill', u'another', u'any', u'anything', u'are']\n"
     ]
    }
   ],
   "source": [
    "words = []\n",
    "for sent in sentences:\n",
    "    words += [w.lower() for w in word_tokenize(sent)]\n",
    "# print words\n",
    "vocab = sorted(set(words))\n",
    "print vocab[:40]"
   ]
  },
  {
   "cell_type": "markdown",
   "metadata": {},
   "source": [
    "![Unicode Sucks](http://www.nltk.org/images/unicode.png)"
   ]
  },
  {
   "cell_type": "markdown",
   "metadata": {},
   "source": [
    "Add Lemattazation \n",
    "\n",
    "- [Regular Expressions in Core NLP](https://github.com/stanfordnlp/CoreNLP/blob/master/src/edu/stanford/nlp/process/PTBLexer.flex)\n",
    "- [Porter Stemming Algorithm](https://github.com/mdirolf/pyporter2/blob/master/Stemmer.py)\n",
    "- [More Friendly Demos](http://text-processing.com/demo/)\n",
    "- [Punkt Sentence Tokenizer](https://github.com/nltk/nltk/blob/develop/nltk/tokenize/punkt.py)\n"
   ]
  },
  {
   "cell_type": "code",
   "execution_count": 53,
   "metadata": {
    "collapsed": false
   },
   "outputs": [
    {
     "name": "stdout",
     "output_type": "stream",
     "text": [
      "[u'aren\\u2019t', u'around', u'as', u'assess', u'at', u'augment', u'averag', u'averag', u'averag', u'avoid']\n",
      "[u'aren\\u2019t', u'around', u'a', u'ass', u'at', u'augment', u'average', u'averaged', u'averaging', u'avoid']\n"
     ]
    }
   ],
   "source": [
    "porter = nltk.PorterStemmer()\n",
    "print [porter.stem(t) for t in vocab][40:50]\n",
    "\n",
    "wnl = nltk.WordNetLemmatizer()\n",
    "print [wnl.lemmatize(t) for t in vocab][40:50]"
   ]
  },
  {
   "cell_type": "code",
   "execution_count": null,
   "metadata": {
    "collapsed": true
   },
   "outputs": [],
   "source": []
  }
 ],
 "metadata": {
  "kernelspec": {
   "display_name": "Python 2",
   "language": "python",
   "name": "python2"
  },
  "language_info": {
   "codemirror_mode": {
    "name": "ipython",
    "version": 2
   },
   "file_extension": ".py",
   "mimetype": "text/x-python",
   "name": "python",
   "nbconvert_exporter": "python",
   "pygments_lexer": "ipython2",
   "version": "2.7.8"
  }
 },
 "nbformat": 4,
 "nbformat_minor": 0
}
